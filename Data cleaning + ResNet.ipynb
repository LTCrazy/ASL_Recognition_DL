{
 "cells": [
  {
   "cell_type": "code",
   "execution_count": 1,
   "metadata": {},
   "outputs": [
    {
     "name": "stdout",
     "output_type": "stream",
     "text": [
      "TianchangLi \n",
      "\n",
      "CPython 3.7.6\n",
      "IPython 7.12.0\n",
      "\n",
      "matplotlib 3.1.3\n",
      "torch 1.5.0\n",
      "pandas 1.0.1\n",
      "numpy 1.18.1\n",
      "PIL 7.0.0\n",
      "cuda not installed\n"
     ]
    }
   ],
   "source": [
    "%load_ext watermark\n",
    "%watermark -a 'TianchangLi' -v -p matplotlib,torch,pandas,numpy,PIL,cuda"
   ]
  },
  {
   "cell_type": "markdown",
   "metadata": {},
   "source": [
    "## Prepare for train, valid, test sets, and images"
   ]
  },
  {
   "cell_type": "code",
   "execution_count": 1,
   "metadata": {},
   "outputs": [
    {
     "data": {
      "text/html": [
       "<div>\n",
       "<style scoped>\n",
       "    .dataframe tbody tr th:only-of-type {\n",
       "        vertical-align: middle;\n",
       "    }\n",
       "\n",
       "    .dataframe tbody tr th {\n",
       "        vertical-align: top;\n",
       "    }\n",
       "\n",
       "    .dataframe thead th {\n",
       "        text-align: right;\n",
       "    }\n",
       "</style>\n",
       "<table border=\"1\" class=\"dataframe\">\n",
       "  <thead>\n",
       "    <tr style=\"text-align: right;\">\n",
       "      <th></th>\n",
       "      <th>class_label</th>\n",
       "      <th>image_name</th>\n",
       "    </tr>\n",
       "  </thead>\n",
       "  <tbody>\n",
       "    <tr>\n",
       "      <th>0</th>\n",
       "      <td>0</td>\n",
       "      <td>A1.jpg</td>\n",
       "    </tr>\n",
       "    <tr>\n",
       "      <th>1</th>\n",
       "      <td>0</td>\n",
       "      <td>A2.jpg</td>\n",
       "    </tr>\n",
       "    <tr>\n",
       "      <th>2</th>\n",
       "      <td>0</td>\n",
       "      <td>A3.jpg</td>\n",
       "    </tr>\n",
       "    <tr>\n",
       "      <th>3</th>\n",
       "      <td>0</td>\n",
       "      <td>A4.jpg</td>\n",
       "    </tr>\n",
       "    <tr>\n",
       "      <th>4</th>\n",
       "      <td>0</td>\n",
       "      <td>A5.jpg</td>\n",
       "    </tr>\n",
       "  </tbody>\n",
       "</table>\n",
       "</div>"
      ],
      "text/plain": [
       "   class_label image_name\n",
       "0            0     A1.jpg\n",
       "1            0     A2.jpg\n",
       "2            0     A3.jpg\n",
       "3            0     A4.jpg\n",
       "4            0     A5.jpg"
      ]
     },
     "execution_count": 1,
     "metadata": {},
     "output_type": "execute_result"
    }
   ],
   "source": [
    "import pandas as pd\n",
    "from string import ascii_uppercase\n",
    "\n",
    "y_train = []\n",
    "image = []\n",
    "for c in ascii_uppercase:\n",
    "    for idx in range(1,3002):\n",
    "        y_train.append(ord(c.lower())-97)\n",
    "        image.append(f\"{c}{idx}.jpg\")\n",
    "for idx in range(1,3002):\n",
    "    c = 'del'\n",
    "    y_train.append(26)\n",
    "    image.append(f\"{c}{idx}.jpg\")\n",
    "for idx in range(1,3002):\n",
    "    c = 'nothing'\n",
    "    y_train.append(27)\n",
    "    image.append(f\"{c}{idx}.jpg\")\n",
    "for idx in range(1,3002):\n",
    "    c = 'space'\n",
    "    y_train.append(28)\n",
    "    image.append(f\"{c}{idx}.jpg\")\n",
    "df_train = pd.DataFrame(y_train, columns=['class_label'])\n",
    "df_train['image_name'] = image\n",
    "df_train.head()"
   ]
  },
  {
   "cell_type": "code",
   "execution_count": 3,
   "metadata": {},
   "outputs": [
    {
     "data": {
      "text/html": [
       "<div>\n",
       "<style scoped>\n",
       "    .dataframe tbody tr th:only-of-type {\n",
       "        vertical-align: middle;\n",
       "    }\n",
       "\n",
       "    .dataframe tbody tr th {\n",
       "        vertical-align: top;\n",
       "    }\n",
       "\n",
       "    .dataframe thead th {\n",
       "        text-align: right;\n",
       "    }\n",
       "</style>\n",
       "<table border=\"1\" class=\"dataframe\">\n",
       "  <thead>\n",
       "    <tr style=\"text-align: right;\">\n",
       "      <th></th>\n",
       "      <th>class_label</th>\n",
       "      <th>image_name</th>\n",
       "    </tr>\n",
       "  </thead>\n",
       "  <tbody>\n",
       "    <tr>\n",
       "      <th>63206</th>\n",
       "      <td>21</td>\n",
       "      <td>V186.jpg</td>\n",
       "    </tr>\n",
       "    <tr>\n",
       "      <th>61404</th>\n",
       "      <td>20</td>\n",
       "      <td>U1385.jpg</td>\n",
       "    </tr>\n",
       "    <tr>\n",
       "      <th>17730</th>\n",
       "      <td>5</td>\n",
       "      <td>F2726.jpg</td>\n",
       "    </tr>\n",
       "    <tr>\n",
       "      <th>28030</th>\n",
       "      <td>9</td>\n",
       "      <td>J1022.jpg</td>\n",
       "    </tr>\n",
       "    <tr>\n",
       "      <th>15725</th>\n",
       "      <td>5</td>\n",
       "      <td>F721.jpg</td>\n",
       "    </tr>\n",
       "  </tbody>\n",
       "</table>\n",
       "</div>"
      ],
      "text/plain": [
       "       class_label image_name\n",
       "63206           21   V186.jpg\n",
       "61404           20  U1385.jpg\n",
       "17730            5  F2726.jpg\n",
       "28030            9  J1022.jpg\n",
       "15725            5   F721.jpg"
      ]
     },
     "execution_count": 3,
     "metadata": {},
     "output_type": "execute_result"
    }
   ],
   "source": [
    "df_shuffled = df_train.sample(n=df_train.shape[0], random_state=123)   # 87029 iamges in total\n",
    "df_trainset = df_shuffled.iloc[:60921]  # 70% test\n",
    "df_validset = df_shuffled.iloc[60921:78327]  # 20% valid - 17406\n",
    "df_testset = df_shuffled.iloc[78327:]  # 10% test - 8702\n",
    "df_testset.tail()"
   ]
  },
  {
   "cell_type": "code",
   "execution_count": 4,
   "metadata": {},
   "outputs": [
    {
     "data": {
      "text/html": [
       "<div>\n",
       "<style scoped>\n",
       "    .dataframe tbody tr th:only-of-type {\n",
       "        vertical-align: middle;\n",
       "    }\n",
       "\n",
       "    .dataframe tbody tr th {\n",
       "        vertical-align: top;\n",
       "    }\n",
       "\n",
       "    .dataframe thead th {\n",
       "        text-align: right;\n",
       "    }\n",
       "</style>\n",
       "<table border=\"1\" class=\"dataframe\">\n",
       "  <thead>\n",
       "    <tr style=\"text-align: right;\">\n",
       "      <th></th>\n",
       "      <th>class_label</th>\n",
       "      <th>image_name</th>\n",
       "    </tr>\n",
       "  </thead>\n",
       "  <tbody>\n",
       "    <tr>\n",
       "      <th>24</th>\n",
       "      <td>24</td>\n",
       "      <td>Y_test.jpg</td>\n",
       "    </tr>\n",
       "    <tr>\n",
       "      <th>25</th>\n",
       "      <td>25</td>\n",
       "      <td>Z_test.jpg</td>\n",
       "    </tr>\n",
       "    <tr>\n",
       "      <th>26</th>\n",
       "      <td>26</td>\n",
       "      <td>del_test.jpg</td>\n",
       "    </tr>\n",
       "    <tr>\n",
       "      <th>27</th>\n",
       "      <td>27</td>\n",
       "      <td>nothing_test.jpg</td>\n",
       "    </tr>\n",
       "    <tr>\n",
       "      <th>28</th>\n",
       "      <td>28</td>\n",
       "      <td>space_test.jpg</td>\n",
       "    </tr>\n",
       "  </tbody>\n",
       "</table>\n",
       "</div>"
      ],
      "text/plain": [
       "    class_label        image_name\n",
       "24           24        Y_test.jpg\n",
       "25           25        Z_test.jpg\n",
       "26           26      del_test.jpg\n",
       "27           27  nothing_test.jpg\n",
       "28           28    space_test.jpg"
      ]
     },
     "execution_count": 4,
     "metadata": {},
     "output_type": "execute_result"
    }
   ],
   "source": [
    "# y_test = []\n",
    "# image = []\n",
    "# for c in ascii_uppercase:\n",
    "#     y_test.append(ord(c.lower())-97)\n",
    "#     image.append(f\"{c}_test.jpg\")\n",
    "\n",
    "# c = 'del'\n",
    "# y_test.append(26)\n",
    "# image.append(f\"{c}_test.jpg\")\n",
    "\n",
    "# c = 'nothing'\n",
    "# y_test.append(27)\n",
    "# image.append(f\"{c}_test.jpg\")\n",
    "\n",
    "# c = 'space'\n",
    "# y_test.append(28)\n",
    "# image.append(f\"{c}_test.jpg\")\n",
    "\n",
    "# df_testset = pd.DataFrame(y_test, columns=['class_label'])\n",
    "# df_testset['image_name'] = image\n",
    "# df_testset.tail()"
   ]
  },
  {
   "cell_type": "code",
   "execution_count": 4,
   "metadata": {},
   "outputs": [],
   "source": [
    "df_trainset.to_csv('train.csv', index=None)\n",
    "df_validset.to_csv('valid.csv', index=None)\n",
    "df_testset.to_csv('test.csv', index=None)"
   ]
  },
  {
   "cell_type": "markdown",
   "metadata": {},
   "source": [
    "## Unzipping file"
   ]
  },
  {
   "cell_type": "code",
   "execution_count": 37,
   "metadata": {},
   "outputs": [],
   "source": [
    "# this code cell unzips the .gz files\n",
    "\n",
    "# import sys\n",
    "# import gzip\n",
    "# import shutil\n",
    "# import os\n",
    "# from zipfile import ZipFile\n",
    "\n",
    "# writemode = 'wb'\n",
    "\n",
    "# # Create a ZipFile Object and load sample.zip in it\n",
    "\n",
    "# with ZipFile('asl_alphabet_train.zip', 'r') as zipObj:\n",
    "#    # Extract all the contents of zip file in current directory\n",
    "#    zipObj.extractall()"
   ]
  },
  {
   "cell_type": "markdown",
   "metadata": {},
   "source": [
    "## Load example dataset"
   ]
  },
  {
   "cell_type": "code",
   "execution_count": 2,
   "metadata": {},
   "outputs": [],
   "source": [
    "import torch\n",
    "import time\n",
    "import numpy as np\n",
    "import pandas as pd\n",
    "from PIL import Image\n",
    "import random\n",
    "import torch.nn as nn\n",
    "import torch.nn.functional as F\n",
    "from torchvision import datasets\n",
    "from torchvision import transforms\n",
    "from torch.utils.data import DataLoader\n",
    "from torch.utils.data import Dataset\n",
    "import os\n",
    "import matplotlib.pyplot as plt\n",
    "%matplotlib inline\n",
    "\n",
    "#######################################\n",
    "### PRE-TRAINED MODELS AVAILABLE HERE\n",
    "## https://pytorch.org/docs/stable/torchvision/models.html\n",
    "from torchvision import models\n",
    "#######################################\n",
    "\n",
    "if torch.cuda.is_available():\n",
    "    torch.backends.cudnn.deterministic = True"
   ]
  },
  {
   "cell_type": "code",
   "execution_count": 3,
   "metadata": {},
   "outputs": [
    {
     "name": "stdout",
     "output_type": "stream",
     "text": [
      "Device: cpu\n"
     ]
    }
   ],
   "source": [
    "##############################\n",
    "### Basic Parameter SETTINGS\n",
    "##############################\n",
    "\n",
    "# Device\n",
    "DEVICE = torch.device(\"cuda:2\" if torch.cuda.is_available() else \"cpu\")\n",
    "print('Device:', DEVICE)\n",
    "\n",
    "# Hyperparameters\n",
    "RANDOM_SEED = 233\n",
    "LEARNING_RATE = 0.01\n",
    "NUM_EPOCHS = 20\n",
    "BATCH_SIZE = 256\n",
    "\n",
    "# Architecture\n",
    "NUM_CLASSES = 29"
   ]
  },
  {
   "cell_type": "code",
   "execution_count": 4,
   "metadata": {},
   "outputs": [],
   "source": [
    "class ASLDataset(Dataset):\n",
    "    \"\"\"Custom Dataset for loading ASL images\"\"\"\n",
    "\n",
    "    def __init__(self, csv_path, img_dir, transform=None):\n",
    "    \n",
    "        df = pd.read_csv(csv_path)\n",
    "        self.img_names = df['image_name'].values\n",
    "        self.y = df['class_label'].values\n",
    "        self.img_dir = img_dir\n",
    "\n",
    "        # convert to np array\n",
    "#         df_np = df.to_numpy()\n",
    "#         self.img_names = df_np[:,1]\n",
    "#         self.y = df_np[:,0]\n",
    "#         for i in df['class_label'].values:\n",
    "#             if len(i)==1:\n",
    "#                 self.y.append(ord(i.lower())-96)\n",
    "#             elif i=='del':\n",
    "#                 self.y.append(27)\n",
    "#             elif i=='nothing':\n",
    "#                 self.y.append(28)\n",
    "#             elif i=='space':\n",
    "#                 self.y.append(29)\n",
    "#         self.y = np.asarray(self.y)\n",
    "            \n",
    "        self.transform = transform\n",
    "        \n",
    "    def __getitem__(self, index):\n",
    "        img = Image.open(os.path.join(self.img_dir,\n",
    "                                      self.img_names[index]))\n",
    "        \n",
    "        if self.transform is not None:\n",
    "            img = self.transform(img)\n",
    "        \n",
    "        label = self.y[index]\n",
    "        return img, label\n",
    "\n",
    "    def __len__(self):\n",
    "        return self.y.shape[0]\n",
    "    \n",
    "\n",
    "custom_train_transform = transforms.ToTensor()\n",
    "\n",
    "custom_test_transform = transforms.ToTensor()"
   ]
  },
  {
   "cell_type": "code",
   "execution_count": 5,
   "metadata": {},
   "outputs": [],
   "source": [
    "train_dataset = ASLDataset(csv_path='train.csv',\n",
    "                                    img_dir='asl_alphabet_train/',\n",
    "                                    transform=custom_train_transform)\n",
    "\n",
    "train_loader = DataLoader(dataset=train_dataset,\n",
    "                          batch_size=BATCH_SIZE,\n",
    "                          shuffle=True,\n",
    "                          drop_last=True)\n",
    "\n",
    "valid_dataset = ASLDataset(csv_path='valid.csv',\n",
    "                                    img_dir='asl_alphabet_train/',\n",
    "                                    transform=custom_test_transform)\n",
    "\n",
    "valid_loader = DataLoader(dataset=valid_dataset,\n",
    "                          batch_size=BATCH_SIZE,\n",
    "                          shuffle=False)\n",
    "\n",
    "test_dataset = ASLDataset(csv_path='test.csv',\n",
    "                                   img_dir='asl_alphabet_test/',\n",
    "                                   transform=custom_test_transform)\n",
    "\n",
    "test_loader = DataLoader(dataset=test_dataset,\n",
    "                         batch_size=BATCH_SIZE,\n",
    "                         shuffle=False)"
   ]
  },
  {
   "cell_type": "code",
   "execution_count": 6,
   "metadata": {},
   "outputs": [],
   "source": [
    "# train_mean = []\n",
    "# train_std = []\n",
    "\n",
    "# for i, image in enumerate(train_loader,):\n",
    "#     numpy_image = image[0].numpy()\n",
    "    \n",
    "#     batch_mean = np.mean(numpy_image, axis=(0, 2, 3))\n",
    "#     batch_std = np.std(numpy_image, axis=(0, 2, 3))\n",
    "    \n",
    "#     train_mean.append(batch_mean)\n",
    "#     train_std.append(batch_std)\n",
    "\n",
    "# train_mean = torch.tensor(np.mean(train_mean, axis=0))\n",
    "# train_std = torch.tensor(np.mean(train_std, axis=0))\n",
    "\n",
    "# print('Mean:', train_mean)\n",
    "# print('Std Dev:', train_std)"
   ]
  },
  {
   "cell_type": "code",
   "execution_count": 15,
   "metadata": {},
   "outputs": [],
   "source": [
    "############### carried over from previous calculation ##################\n",
    "train_mean = torch.tensor([0.5190, 0.4992, 0.5139])\n",
    "train_std = torch.tensor([0.2282, 0.2556, 0.2638])\n",
    "#########################################################################\n",
    "custom_train_transform = transforms.Compose([transforms.RandomResizedCrop(64, scale=(0.96, 1.0), ratio=(0.95, 1.05)),\n",
    "                                             transforms.ToTensor(),\n",
    "                                            transforms.Normalize(mean=train_mean, std=train_std)\n",
    "                                            ])\n",
    "\n",
    "custom_test_transform = transforms.Compose([transforms.Resize([64, 64]),\n",
    "                                            transforms.ToTensor(),\n",
    "                                           transforms.Normalize(mean=train_mean, std=train_std)\n",
    "                                           ])\n",
    "\n",
    "train_dataset = ASLDataset(csv_path='train.csv',\n",
    "                                    img_dir='asl_alphabet_train/',\n",
    "                                    transform=custom_train_transform)\n",
    "\n",
    "train_loader = DataLoader(dataset=train_dataset,\n",
    "                          batch_size=BATCH_SIZE,\n",
    "                          shuffle=True,\n",
    "                          drop_last=True)\n",
    "\n",
    "valid_dataset = ASLDataset(csv_path='valid.csv',\n",
    "                                    img_dir='asl_alphabet_train/',\n",
    "                                    transform=custom_test_transform)\n",
    "\n",
    "valid_loader = DataLoader(dataset=valid_dataset,\n",
    "                          batch_size=BATCH_SIZE,\n",
    "                          shuffle=False)\n",
    "\n",
    "test_dataset = ASLDataset(csv_path='test.csv',\n",
    "                                   img_dir='asl_alphabet_train/',\n",
    "                                   transform=custom_test_transform)\n",
    "\n",
    "test_loader = DataLoader(dataset=test_dataset,\n",
    "                         batch_size=BATCH_SIZE,\n",
    "                         shuffle=False)"
   ]
  },
  {
   "cell_type": "code",
   "execution_count": 44,
   "metadata": {},
   "outputs": [
    {
     "name": "stdout",
     "output_type": "stream",
     "text": [
      "Image batch dimensions: torch.Size([256, 3, 64, 64])\n",
      "Image label dimensions: 256\n",
      "Image batch dimensions: torch.Size([256, 3, 64, 64])\n",
      "Image label dimensions: 256\n",
      "(29, 3, 64, 64)\n",
      "Image batch dimensions: torch.Size([29, 3, 64, 64])\n",
      "Image label dimensions: 29\n"
     ]
    },
    {
     "data": {
      "image/png": "[encoded data removed]",
      "text/plain": [
       "<Figure size 432x288 with 1 Axes>"
      ]
     },
     "metadata": {
      "needs_background": "light"
     },
     "output_type": "display_data"
    }
   ],
   "source": [
    "# Checking the dataset\n",
    "for images, labels in train_loader:  \n",
    "    print('Image batch dimensions:', images.shape)\n",
    "    print('Image label dimensions:', len(labels))  # Tuple\n",
    "    break\n",
    "    \n",
    "for images, labels in valid_loader:  \n",
    "    print('Image batch dimensions:', images.shape)\n",
    "    print('Image label dimensions:', len(labels))\n",
    "    plt.imshow(images[198,1,:,:]);\n",
    "#     plt.savefig('Figures/Example4_randomCrop')\n",
    "    break\n",
    "    \n",
    "for images, labels in test_loader:  \n",
    "    print(np.asarray(images, dtype=np.uint8).shape)\n",
    "    \n",
    "    print('Image batch dimensions:', images.size())\n",
    "    print('Image label dimensions:', len(labels))\n",
    "    break"
   ]
  },
  {
   "cell_type": "markdown",
   "metadata": {},
   "source": [
    "## Load pre-trained ResNet18"
   ]
  },
  {
   "cell_type": "code",
   "execution_count": 1,
   "metadata": {},
   "outputs": [
    {
     "data": {
      "text/plain": [
       "ResNet(\n",
       "  (conv1): Conv2d(3, 64, kernel_size=(7, 7), stride=(2, 2), padding=(3, 3), bias=False)\n",
       "  (bn1): BatchNorm2d(64, eps=1e-05, momentum=0.1, affine=True, track_running_stats=True)\n",
       "  (relu): ReLU(inplace=True)\n",
       "  (maxpool): MaxPool2d(kernel_size=3, stride=2, padding=1, dilation=1, ceil_mode=False)\n",
       "  (layer1): Sequential(\n",
       "    (0): BasicBlock(\n",
       "      (conv1): Conv2d(64, 64, kernel_size=(3, 3), stride=(1, 1), padding=(1, 1), bias=False)\n",
       "      (bn1): BatchNorm2d(64, eps=1e-05, momentum=0.1, affine=True, track_running_stats=True)\n",
       "      (relu): ReLU(inplace=True)\n",
       "      (conv2): Conv2d(64, 64, kernel_size=(3, 3), stride=(1, 1), padding=(1, 1), bias=False)\n",
       "      (bn2): BatchNorm2d(64, eps=1e-05, momentum=0.1, affine=True, track_running_stats=True)\n",
       "    )\n",
       "    (1): BasicBlock(\n",
       "      (conv1): Conv2d(64, 64, kernel_size=(3, 3), stride=(1, 1), padding=(1, 1), bias=False)\n",
       "      (bn1): BatchNorm2d(64, eps=1e-05, momentum=0.1, affine=True, track_running_stats=True)\n",
       "      (relu): ReLU(inplace=True)\n",
       "      (conv2): Conv2d(64, 64, kernel_size=(3, 3), stride=(1, 1), padding=(1, 1), bias=False)\n",
       "      (bn2): BatchNorm2d(64, eps=1e-05, momentum=0.1, affine=True, track_running_stats=True)\n",
       "    )\n",
       "  )\n",
       "  (layer2): Sequential(\n",
       "    (0): BasicBlock(\n",
       "      (conv1): Conv2d(64, 128, kernel_size=(3, 3), stride=(2, 2), padding=(1, 1), bias=False)\n",
       "      (bn1): BatchNorm2d(128, eps=1e-05, momentum=0.1, affine=True, track_running_stats=True)\n",
       "      (relu): ReLU(inplace=True)\n",
       "      (conv2): Conv2d(128, 128, kernel_size=(3, 3), stride=(1, 1), padding=(1, 1), bias=False)\n",
       "      (bn2): BatchNorm2d(128, eps=1e-05, momentum=0.1, affine=True, track_running_stats=True)\n",
       "      (downsample): Sequential(\n",
       "        (0): Conv2d(64, 128, kernel_size=(1, 1), stride=(2, 2), bias=False)\n",
       "        (1): BatchNorm2d(128, eps=1e-05, momentum=0.1, affine=True, track_running_stats=True)\n",
       "      )\n",
       "    )\n",
       "    (1): BasicBlock(\n",
       "      (conv1): Conv2d(128, 128, kernel_size=(3, 3), stride=(1, 1), padding=(1, 1), bias=False)\n",
       "      (bn1): BatchNorm2d(128, eps=1e-05, momentum=0.1, affine=True, track_running_stats=True)\n",
       "      (relu): ReLU(inplace=True)\n",
       "      (conv2): Conv2d(128, 128, kernel_size=(3, 3), stride=(1, 1), padding=(1, 1), bias=False)\n",
       "      (bn2): BatchNorm2d(128, eps=1e-05, momentum=0.1, affine=True, track_running_stats=True)\n",
       "    )\n",
       "  )\n",
       "  (layer3): Sequential(\n",
       "    (0): BasicBlock(\n",
       "      (conv1): Conv2d(128, 256, kernel_size=(3, 3), stride=(2, 2), padding=(1, 1), bias=False)\n",
       "      (bn1): BatchNorm2d(256, eps=1e-05, momentum=0.1, affine=True, track_running_stats=True)\n",
       "      (relu): ReLU(inplace=True)\n",
       "      (conv2): Conv2d(256, 256, kernel_size=(3, 3), stride=(1, 1), padding=(1, 1), bias=False)\n",
       "      (bn2): BatchNorm2d(256, eps=1e-05, momentum=0.1, affine=True, track_running_stats=True)\n",
       "      (downsample): Sequential(\n",
       "        (0): Conv2d(128, 256, kernel_size=(1, 1), stride=(2, 2), bias=False)\n",
       "        (1): BatchNorm2d(256, eps=1e-05, momentum=0.1, affine=True, track_running_stats=True)\n",
       "      )\n",
       "    )\n",
       "    (1): BasicBlock(\n",
       "      (conv1): Conv2d(256, 256, kernel_size=(3, 3), stride=(1, 1), padding=(1, 1), bias=False)\n",
       "      (bn1): BatchNorm2d(256, eps=1e-05, momentum=0.1, affine=True, track_running_stats=True)\n",
       "      (relu): ReLU(inplace=True)\n",
       "      (conv2): Conv2d(256, 256, kernel_size=(3, 3), stride=(1, 1), padding=(1, 1), bias=False)\n",
       "      (bn2): BatchNorm2d(256, eps=1e-05, momentum=0.1, affine=True, track_running_stats=True)\n",
       "    )\n",
       "  )\n",
       "  (layer4): Sequential(\n",
       "    (0): BasicBlock(\n",
       "      (conv1): Conv2d(256, 512, kernel_size=(3, 3), stride=(2, 2), padding=(1, 1), bias=False)\n",
       "      (bn1): BatchNorm2d(512, eps=1e-05, momentum=0.1, affine=True, track_running_stats=True)\n",
       "      (relu): ReLU(inplace=True)\n",
       "      (conv2): Conv2d(512, 512, kernel_size=(3, 3), stride=(1, 1), padding=(1, 1), bias=False)\n",
       "      (bn2): BatchNorm2d(512, eps=1e-05, momentum=0.1, affine=True, track_running_stats=True)\n",
       "      (downsample): Sequential(\n",
       "        (0): Conv2d(256, 512, kernel_size=(1, 1), stride=(2, 2), bias=False)\n",
       "        (1): BatchNorm2d(512, eps=1e-05, momentum=0.1, affine=True, track_running_stats=True)\n",
       "      )\n",
       "    )\n",
       "    (1): BasicBlock(\n",
       "      (conv1): Conv2d(512, 512, kernel_size=(3, 3), stride=(1, 1), padding=(1, 1), bias=False)\n",
       "      (bn1): BatchNorm2d(512, eps=1e-05, momentum=0.1, affine=True, track_running_stats=True)\n",
       "      (relu): ReLU(inplace=True)\n",
       "      (conv2): Conv2d(512, 512, kernel_size=(3, 3), stride=(1, 1), padding=(1, 1), bias=False)\n",
       "      (bn2): BatchNorm2d(512, eps=1e-05, momentum=0.1, affine=True, track_running_stats=True)\n",
       "    )\n",
       "  )\n",
       "  (avgpool): AdaptiveAvgPool2d(output_size=(1, 1))\n",
       "  (fc): Linear(in_features=512, out_features=1000, bias=True)\n",
       ")"
      ]
     },
     "execution_count": 1,
     "metadata": {},
     "output_type": "execute_result"
    }
   ],
   "source": [
    "import torchvision.models as models\n",
    "model = models.resnet18(pretrained=True)\n",
    "model\n",
    "# model.load.state_dict(torch.load('Model/ResNet/model_18epoch_0.1lr_0.95ExpDecay_0421.pt'))"
   ]
  },
  {
   "cell_type": "markdown",
   "metadata": {},
   "source": [
    "## Freezing the Model"
   ]
  },
  {
   "cell_type": "code",
   "execution_count": 8,
   "metadata": {},
   "outputs": [],
   "source": [
    "for param in model.parameters():\n",
    "    param.requires_grad = False\n",
    "    \n",
    "model.fc.requires_grad = True\n",
    "model.fc = nn.Sequential(\n",
    "#     nn.Dropout(0.05),\n",
    "    nn.Linear(512, NUM_CLASSES)\n",
    "\n",
    ")"
   ]
  },
  {
   "cell_type": "markdown",
   "metadata": {},
   "source": [
    "## Training"
   ]
  },
  {
   "cell_type": "code",
   "execution_count": 9,
   "metadata": {},
   "outputs": [
    {
     "name": "stdout",
     "output_type": "stream",
     "text": [
      "0.001\n"
     ]
    }
   ],
   "source": [
    "model = model.to(DEVICE)\n",
    "optimizer = torch.optim.Adam(model.parameters())\n",
    "# scheduler = torch.optim.lr_scheduler.ExponentialLR(optimizer, gamma=0.85, last_epoch=-1)\n",
    "###### Try 0.01, gamma = 0.95 ############\n",
    "for param_group in optimizer.param_groups:\n",
    "#     param_group['lr'] = 0.0012\n",
    "    print(param_group['lr'])\n"
   ]
  },
  {
   "cell_type": "code",
   "execution_count": 19,
   "metadata": {},
   "outputs": [
    {
     "name": "stdout",
     "output_type": "stream",
     "text": [
      "0.0012\n",
      "0.0010199999999999999\n",
      "0.0008669999999999998\n",
      "0.0007369499999999998\n",
      "0.0006264074999999998\n",
      "0.0005324463749999998\n",
      "0.00045257941874999984\n",
      "0.00038469250593749986\n"
     ]
    }
   ],
   "source": [
    "# for i in range(8):\n",
    "#     for param_group in optimizer.param_groups:\n",
    "#         print(param_group['lr'])\n",
    "#     scheduler.step()"
   ]
  },
  {
   "cell_type": "code",
   "execution_count": 10,
   "metadata": {},
   "outputs": [
    {
     "name": "stdout",
     "output_type": "stream",
     "text": [
      "Epoch: 001/020 | Batch 000/237 | Cost: 3.6664\n",
      "Epoch: 001/020 | Batch 120/237 | Cost: 1.2896\n",
      "Epoch: 001/020 Train Acc.: 73.86% | Validation Acc.: 73.77%\n",
      "Time elapsed: 43.23 min\n",
      "Epoch: 002/020 | Batch 000/237 | Cost: 0.9806\n",
      "Epoch: 002/020 | Batch 120/237 | Cost: 0.9386\n",
      "Epoch: 002/020 Train Acc.: 78.94% | Validation Acc.: 78.74%\n",
      "Time elapsed: 67.83 min\n",
      "Epoch: 003/020 | Batch 000/237 | Cost: 0.7311\n",
      "Epoch: 003/020 | Batch 120/237 | Cost: 0.8368\n",
      "Epoch: 003/020 Train Acc.: 81.15% | Validation Acc.: 80.75%\n",
      "Time elapsed: 92.53 min\n",
      "Epoch: 004/020 | Batch 000/237 | Cost: 0.6651\n",
      "Epoch: 004/020 | Batch 120/237 | Cost: 0.6182\n",
      "Epoch: 004/020 Train Acc.: 82.55% | Validation Acc.: 81.95%\n",
      "Time elapsed: 117.19 min\n",
      "Epoch: 005/020 | Batch 000/237 | Cost: 0.6142\n",
      "Epoch: 005/020 | Batch 120/237 | Cost: 0.5461\n",
      "Epoch: 005/020 Train Acc.: 83.61% | Validation Acc.: 82.90%\n",
      "Time elapsed: 141.82 min\n",
      "Epoch: 006/020 | Batch 000/237 | Cost: 0.4907\n",
      "Epoch: 006/020 | Batch 120/237 | Cost: 0.5560\n",
      "Epoch: 006/020 Train Acc.: 83.93% | Validation Acc.: 83.22%\n",
      "Time elapsed: 166.43 min\n",
      "Epoch: 007/020 | Batch 000/237 | Cost: 0.5905\n",
      "Epoch: 007/020 | Batch 120/237 | Cost: 0.5331\n",
      "Epoch: 007/020 Train Acc.: 84.68% | Validation Acc.: 83.52%\n",
      "Time elapsed: 191.03 min\n",
      "Epoch: 008/020 | Batch 000/237 | Cost: 0.5179\n",
      "Epoch: 008/020 | Batch 120/237 | Cost: 0.5887\n",
      "Epoch: 008/020 Train Acc.: 84.53% | Validation Acc.: 83.78%\n",
      "Time elapsed: 215.71 min\n",
      "Epoch: 009/020 | Batch 000/237 | Cost: 0.5872\n",
      "Epoch: 009/020 | Batch 120/237 | Cost: 0.5193\n",
      "Epoch: 009/020 Train Acc.: 85.18% | Validation Acc.: 84.33%\n",
      "Time elapsed: 240.36 min\n",
      "Epoch: 010/020 | Batch 000/237 | Cost: 0.4445\n",
      "Epoch: 010/020 | Batch 120/237 | Cost: 0.5641\n",
      "Epoch: 010/020 Train Acc.: 85.30% | Validation Acc.: 84.33%\n",
      "Time elapsed: 265.05 min\n",
      "Epoch: 011/020 | Batch 000/237 | Cost: 0.4251\n",
      "Epoch: 011/020 | Batch 120/237 | Cost: 0.4636\n",
      "Epoch: 011/020 Train Acc.: 85.31% | Validation Acc.: 84.60%\n",
      "Time elapsed: 289.74 min\n",
      "Epoch: 012/020 | Batch 000/237 | Cost: 0.4855\n",
      "Epoch: 012/020 | Batch 120/237 | Cost: 0.4309\n",
      "Epoch: 012/020 Train Acc.: 85.47% | Validation Acc.: 84.73%\n",
      "Time elapsed: 314.49 min\n",
      "Epoch: 013/020 | Batch 000/237 | Cost: 0.3839\n",
      "Epoch: 013/020 | Batch 120/237 | Cost: 0.4583\n",
      "Epoch: 013/020 Train Acc.: 85.90% | Validation Acc.: 84.88%\n",
      "Time elapsed: 339.27 min\n",
      "Epoch: 014/020 | Batch 000/237 | Cost: 0.3631\n",
      "Epoch: 014/020 | Batch 120/237 | Cost: 0.5004\n",
      "Epoch: 014/020 Train Acc.: 86.19% | Validation Acc.: 84.98%\n",
      "Time elapsed: 364.02 min\n",
      "Epoch: 015/020 | Batch 000/237 | Cost: 0.4316\n",
      "Epoch: 015/020 | Batch 120/237 | Cost: 0.4075\n",
      "Epoch: 015/020 Train Acc.: 86.08% | Validation Acc.: 85.05%\n",
      "Time elapsed: 388.77 min\n",
      "Epoch: 016/020 | Batch 000/237 | Cost: 0.3355\n",
      "Epoch: 016/020 | Batch 120/237 | Cost: 0.4060\n",
      "Epoch: 016/020 Train Acc.: 86.38% | Validation Acc.: 85.31%\n",
      "Time elapsed: 413.62 min\n",
      "Epoch: 017/020 | Batch 000/237 | Cost: 0.4570\n",
      "Epoch: 017/020 | Batch 120/237 | Cost: 0.4637\n",
      "Epoch: 017/020 Train Acc.: 86.19% | Validation Acc.: 85.59%\n",
      "Time elapsed: 438.35 min\n",
      "Epoch: 018/020 | Batch 000/237 | Cost: 0.4357\n",
      "Epoch: 018/020 | Batch 120/237 | Cost: 0.4777\n",
      "Epoch: 018/020 Train Acc.: 86.35% | Validation Acc.: 85.23%\n",
      "Time elapsed: 463.07 min\n",
      "Epoch: 019/020 | Batch 000/237 | Cost: 0.5148\n",
      "Epoch: 019/020 | Batch 120/237 | Cost: 0.3444\n",
      "Epoch: 019/020 Train Acc.: 86.44% | Validation Acc.: 85.49%\n",
      "Time elapsed: 487.80 min\n",
      "Epoch: 020/020 | Batch 000/237 | Cost: 0.4360\n",
      "Epoch: 020/020 | Batch 120/237 | Cost: 0.5151\n",
      "Epoch: 020/020 Train Acc.: 86.63% | Validation Acc.: 85.38%\n",
      "Time elapsed: 512.54 min\n",
      "Total Training Time: 512.54 min\n"
     ]
    }
   ],
   "source": [
    "def compute_accuracy_and_loss(model, data_loader, device):\n",
    "    correct_pred, num_examples = 0, 0\n",
    "    cross_entropy = 0.\n",
    "    for i, (features, targets) in enumerate(data_loader):\n",
    "            \n",
    "        features = features.to(device)\n",
    "        targets = targets.to(device)\n",
    "\n",
    "        logits = model(features)\n",
    "        cross_entropy += F.cross_entropy(logits, targets).item()\n",
    "        _, predicted_labels = torch.max(logits, 1)\n",
    "        num_examples += targets.size(0)\n",
    "        correct_pred += (predicted_labels == targets).sum()\n",
    "    return correct_pred.float()/num_examples * 100, cross_entropy/num_examples\n",
    "    \n",
    "\n",
    "start_time = time.time()\n",
    "\n",
    "# use random seed for reproducibility (here batch shuffling)\n",
    "torch.manual_seed(RANDOM_SEED)\n",
    "# NUM_EPOCHS = 1 ############################################## test ###############################\n",
    "\n",
    "train_acc_lst, valid_acc_lst = [], []\n",
    "train_loss_lst, valid_loss_lst = [], []\n",
    "\n",
    "for epoch in range(NUM_EPOCHS):\n",
    "    \n",
    "    model.train()\n",
    "    \n",
    "    for batch_idx, (features, targets) in enumerate(train_loader):\n",
    "    \n",
    "        ### PREPARE MINIBATCH\n",
    "        features = features.to(DEVICE)\n",
    "        targets = targets.to(DEVICE)\n",
    "            \n",
    "        ### FORWARD AND BACK PROP\n",
    "        logits = model(features)\n",
    "        \n",
    "#         if batch_idx == 1:\n",
    "#             print(\"logits:\", logits, \"targets:\", targets)\n",
    "#             print(\"logits shape:\", logits.shape, \"targets shape:\", targets.shape, \"targets type\", targets.dtype)\n",
    "#             break\n",
    "            \n",
    "        cost = F.cross_entropy(logits, targets)\n",
    "        optimizer.zero_grad()\n",
    "        \n",
    "        cost.backward()\n",
    "        \n",
    "        ### UPDATE MODEL PARAMETERS\n",
    "        optimizer.step()\n",
    "        \n",
    "        ### LOGGING\n",
    "        if not batch_idx % 120:\n",
    "            print (f'Epoch: {epoch+1:03d}/{NUM_EPOCHS:03d} | '\n",
    "                   f'Batch {batch_idx:03d}/{len(train_loader):03d} |' \n",
    "                   f' Cost: {cost:.4f}')\n",
    "    \n",
    "    ################ Doesn't have to update each epoch ###################\n",
    "#     if (not epoch % 4) & (epoch > 1):\n",
    "#         scheduler.step()\n",
    "    ######################################################################\n",
    "\n",
    "    # no need to build the computation graph for backprop when computing accuracy\n",
    "    with torch.set_grad_enabled(False):\n",
    "        train_acc, train_loss = compute_accuracy_and_loss(model, train_loader, device=DEVICE)\n",
    "        valid_acc, valid_loss = compute_accuracy_and_loss(model, valid_loader, device=DEVICE)\n",
    "        train_acc_lst.append(train_acc)\n",
    "        valid_acc_lst.append(valid_acc)\n",
    "        train_loss_lst.append(train_loss)\n",
    "        valid_loss_lst.append(valid_loss)\n",
    "        print(f'Epoch: {epoch+1:03d}/{NUM_EPOCHS:03d} Train Acc.: {train_acc:.2f}%'\n",
    "              f' | Validation Acc.: {valid_acc:.2f}%')\n",
    "        \n",
    "    elapsed = (time.time() - start_time)/60\n",
    "    print(f'Time elapsed: {elapsed:.2f} min')\n",
    "    \n",
    "#     for param_group in optimizer.param_groups:\n",
    "#         print('Learning rate:', param_group['lr'])\n",
    "    \n",
    "elapsed = (time.time() - start_time)/60\n",
    "print(f'Total Training Time: {elapsed:.2f} min')"
   ]
  },
  {
   "cell_type": "code",
   "execution_count": 16,
   "metadata": {},
   "outputs": [],
   "source": [
    "torch.save(model.state_dict(), 'Model/ResNet/model_20epoch_randomCrop.pt')\n",
    "torch.save(optimizer.state_dict(), 'Model/ResNet/optimizer_20epoch_randomCrop.pt')\n",
    "# torch.save(scheduler.state_dict(), 'Model/ResNet/scheduler_20epoch_0.0012lr_0.85Decay_every4_0.05dropout.pt')"
   ]
  },
  {
   "cell_type": "code",
   "execution_count": 12,
   "metadata": {},
   "outputs": [
    {
     "data": {
      "image/png": "[encoded data removed]",
      "text/plain": [
       "<Figure size 432x288 with 1 Axes>"
      ]
     },
     "metadata": {
      "needs_background": "light"
     },
     "output_type": "display_data"
    }
   ],
   "source": [
    "fig = plt.figure()\n",
    "ax = plt.subplot(111)\n",
    "ax.plot(range(1, NUM_EPOCHS+1), train_loss_lst, label='Training loss')\n",
    "ax.plot(range(1, NUM_EPOCHS+1), valid_loss_lst, label='Validation loss')\n",
    "ax.legend(loc='upper right')\n",
    "plt.ylabel('Cross entropy')\n",
    "plt.xlabel('Epoch')\n",
    "plt.show()\n",
    "fig.savefig('Figures/Loss_20epoch_randomCrop.png')"
   ]
  },
  {
   "cell_type": "code",
   "execution_count": 13,
   "metadata": {},
   "outputs": [
    {
     "data": {
      "image/png": "[encoded data removed]",
      "text/plain": [
       "<Figure size 432x288 with 1 Axes>"
      ]
     },
     "metadata": {
      "needs_background": "light"
     },
     "output_type": "display_data"
    }
   ],
   "source": [
    "fig = plt.figure()\n",
    "ax = plt.subplot(111)\n",
    "ax.plot(range(1, NUM_EPOCHS+1), train_acc_lst, label='Training accuracy')\n",
    "ax.plot(range(1, NUM_EPOCHS+1), valid_acc_lst, label='Validation accuracy')\n",
    "ax.legend(loc='upper left')\n",
    "plt.ylabel('Cross entropy')\n",
    "plt.xlabel('Epoch')\n",
    "plt.show()\n",
    "fig.savefig('Figures/Acc_20epoch_randomCrop.png')"
   ]
  },
  {
   "cell_type": "code",
   "execution_count": 17,
   "metadata": {},
   "outputs": [
    {
     "name": "stdout",
     "output_type": "stream",
     "text": [
      "Test accuracy: 85.19%\n"
     ]
    }
   ],
   "source": [
    "with torch.set_grad_enabled(False): # save memory during inference\n",
    "    print('Test accuracy: %.2f%%' % (compute_accuracy_and_loss(model, test_loader, device=DEVICE)[0]))"
   ]
  },
  {
   "cell_type": "code",
   "execution_count": null,
   "metadata": {},
   "outputs": [],
   "source": []
  }
 ],
 "metadata": {
  "kernelspec": {
   "display_name": "Python 3",
   "language": "python",
   "name": "python3"
  },
  "language_info": {
   "codemirror_mode": {
    "name": "ipython",
    "version": 3
   },
   "file_extension": ".py",
   "mimetype": "text/x-python",
   "name": "python",
   "nbconvert_exporter": "python",
   "pygments_lexer": "ipython3",
   "version": "3.7.6"
  }
 },
 "nbformat": 4,
 "nbformat_minor": 4
}
